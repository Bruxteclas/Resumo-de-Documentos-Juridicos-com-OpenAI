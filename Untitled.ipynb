{
 "cells": [
  {
   "cell_type": "markdown",
   "id": "086e0a0c-38f6-4eff-a282-94ca3599b3f3",
   "metadata": {},
   "source": [
    "\n",
    "## **Projeto: Resumo de Textos Jurídicos**\n",
    "\n",
    "### **Introdução**\n",
    "Com o crescimento do volume de documentos jurídicos e contratuais, advogados, profissionais de compliance e outros especialistas frequentemente enfrentam dificuldades para analisar e compreender rapidamente grandes volumes de texto. Contratos, termos de uso, cláusulas de privacidade e outros documentos legais geralmente contêm informações essenciais, mas sua leitura e interpretação exigem tempo e atenção detalhada. \n",
    "\n",
    "Este projeto visa criar uma solução automatizada para resumir documentos jurídicos, como contratos e termos de uso, extraindo as partes mais importantes e simplificando a compreensão do conteúdo. O objetivo é proporcionar uma ferramenta que ajude profissionais da área jurídica a economizar tempo e melhorar a análise de documentos, sem comprometer a precisão ou as informações essenciais.\n",
    "\n",
    "### **Objetivo**\n",
    "O objetivo principal deste projeto é desenvolver uma aplicação que:\n",
    "- Resuma documentos jurídicos de forma concisa, destacando as cláusulas mais relevantes, como prazos, valores monetários, obrigações, direitos e responsabilidades.\n",
    "- Permita que advogados, profissionais de compliance ou qualquer outro usuário com necessidade de interpretar documentos legais de forma rápida e eficiente, utilizem o sistema para acelerar sua análise.\n",
    "- Ofereça a possibilidade de identificar e destacar informações críticas, como **prazos** e **valores monetários**, que frequentemente exigem atenção especial em contratos e acordos.\n",
    "\n",
    "### **Funcionalidades Principais**\n",
    "Este protótipo implementa as seguintes funcionalidades:\n",
    " **Entrada de Documento:**\n",
    "   - Suporte para documentos em formatos PDF, Word (.docx) ou texto simples (.txt).\n",
    "   - Opção para o usuário carregar um documento ou colar texto diretamente na interface.\n",
    "  \n",
    " **Processamento de Texto:**\n",
    "   - Extração do texto do documento carregado.\n",
    "   - Geração de um resumo conciso usando a API da OpenAI (GPT-4), com foco em cláusulas importantes e prazos.\n",
    "   - Extração de informações específicas, como **prazos**, **valores monetários** e outras cláusulas críticas.\n",
    "  \n",
    " **Exibição de Resultados:**\n",
    "   - Exibição do resumo gerado de forma clara e objetiva.\n",
    "   - Exibição de prazos e valores destacados, facilitando a análise e compreensão do conteúdo crítico.\n",
    "   - Opção para exportar o resumo em formato PDF, para que o usuário possa salvar ou compartilhar os resumos gerados.\n",
    "\n",
    "### **Justificativa**\n",
    "A necessidade de ferramentas que ajudem na **análise e resumo de textos jurídicos** é crescente, especialmente em um ambiente jurídico que lida com grandes volumes de documentos e que exige precisão. Resumir textos de maneira automatizada não só melhora a eficiência, mas também permite que o profissional se concentre nas questões mais importantes do documento, economizando tempo e esforço.\n",
    "\n",
    "Este projeto faz uso de **técnicas de Processamento de Linguagem Natural (NLP)** e **inteligência artificial** para analisar documentos complexos e gerar resumos relevantes de maneira rápida e eficaz.\n",
    "\n"
   ]
  },
  {
   "cell_type": "markdown",
   "id": "44ed13d2-5c83-4aa2-adb9-6144d9b771d5",
   "metadata": {},
   "source": [
    "# Carregando Bibliotecas"
   ]
  },
  {
   "cell_type": "code",
   "execution_count": 1,
   "id": "4ed7e8a6-6017-4877-b5e5-759b6a7dce00",
   "metadata": {},
   "outputs": [],
   "source": [
    "import os \n",
    "import requests\n",
    "from dotenv import load_dotenv \n",
    "from bs4 import BeautifulSoup \n",
    "from IPython.display import Markdown, display\n",
    "from openai import OpenAI\n"
   ]
  },
  {
   "cell_type": "markdown",
   "id": "7b5d96dc-b901-4eae-8758-22980478a59f",
   "metadata": {},
   "source": [
    "# Conectando-se ao OpenAI"
   ]
  },
  {
   "cell_type": "code",
   "execution_count": 2,
   "id": "6e898e63-63a0-44ce-9621-978d92a51480",
   "metadata": {},
   "outputs": [
    {
     "name": "stdout",
     "output_type": "stream",
     "text": [
      "Chave de API encontrada e parece boa até agora!\n"
     ]
    }
   ],
   "source": [
    "# Carrega variáveis de ambiente em um arquivo chamado .env\n",
    "load_dotenv(override=True)\n",
    "api_key = os.getenv('OPENAI_API_KEY')\n",
    "\n",
    "# Verificando a chave\n",
    "\n",
    "if not api_key:\n",
    "    print(\"Nenhuma chave de API foi encontrada - acesse o bloco de notas de solução de problemas nesta pasta para identificar e corrigir!\")\n",
    "elif not api_key.startswith(\"sk-proj-\"):\n",
    "    print(\"Uma chave de API foi encontrada, mas não inicia o sk-proj-; verifique se você está usando a chave correta - consulte o caderno de solução de problemas\")\n",
    "elif api_key.strip() != api_key:\n",
    "    print(\"Uma chave de API foi encontrada, mas parece que ela pode ter espaços ou caracteres de tabulação no início ou no final. Remova-os. Consulte o bloco de notas de solução de problemas.\")\n",
    "else:\n",
    "    print(\"Chave de API encontrada e parece boa até agora!\")"
   ]
  },
  {
   "cell_type": "code",
   "execution_count": 3,
   "id": "9041186d-cb91-4ed0-b46b-965a2f20a872",
   "metadata": {},
   "outputs": [],
   "source": [
    "# instância para interagir com a API\n",
    "openai = OpenAI()"
   ]
  },
  {
   "cell_type": "markdown",
   "id": "1e10ef25-2ba3-40a1-b59b-2d4e7bebc360",
   "metadata": {},
   "source": [
    "## Extração de Texto de Arquivo PDF"
   ]
  },
  {
   "cell_type": "code",
   "execution_count": 4,
   "id": "f9bf9a6b-7b2c-48df-8434-8e252be19bab",
   "metadata": {},
   "outputs": [],
   "source": [
    "import PyPDF2\n",
    "\n",
    "def extract_text_from_pdf(file_path):\n",
    "    with open(file_path, 'rb') as file:\n",
    "        reader = PyPDF2.PdfReader(file)\n",
    "        text = \"\"\n",
    "        for page in reader.pages:\n",
    "            text += page.extract_text()\n",
    "    return text\n"
   ]
  },
  {
   "cell_type": "markdown",
   "id": "470394ed-e35b-460f-b022-fdc2d891ff7a",
   "metadata": {},
   "source": [
    "## Extração de Texto de Arquivo Word"
   ]
  },
  {
   "cell_type": "code",
   "execution_count": 5,
   "id": "0aeb00fb-fa93-458b-aa43-9488e616f326",
   "metadata": {},
   "outputs": [],
   "source": [
    "import docx\n",
    "\n",
    "def extract_text_from_docx(file_path):\n",
    "    doc = docx.Document(file_path)\n",
    "    text = \"\"\n",
    "    for para in doc.paragraphs:\n",
    "        text += para.text + \"\\n\"\n",
    "    return text\n"
   ]
  },
  {
   "cell_type": "markdown",
   "id": "bf42ceb7-bcb6-4c6b-bfeb-3a6d5ea03580",
   "metadata": {},
   "source": [
    "## Extração de Texto de Arquivo TXT (Texto Puro)"
   ]
  },
  {
   "cell_type": "code",
   "execution_count": 6,
   "id": "25a58830-2e3e-4a93-ad4a-81d9b1f1cbe7",
   "metadata": {},
   "outputs": [],
   "source": [
    "def extract_text_from_txt(file_path):\n",
    "    with open(file_path, 'r', encoding='utf-8') as file:\n",
    "        text = file.read()\n",
    "    return text\n"
   ]
  },
  {
   "cell_type": "markdown",
   "id": "1c8fcf4d-ae8e-4d37-ae9e-c7d30887852f",
   "metadata": {},
   "source": [
    "## Testando a extração de texto com um arquivo de exemplo:"
   ]
  },
  {
   "cell_type": "code",
   "execution_count": 7,
   "id": "82620949-c761-47e1-af72-74ba2fe73d0b",
   "metadata": {},
   "outputs": [
    {
     "name": "stdout",
     "output_type": "stream",
     "text": [
      " \n",
      "CONTRATO DE PRESTAÇÃO DE SERVIÇOS  \n",
      "Pelo presente instrumento particular de contrato de prestação de serviços , as \n",
      "partes:  \n",
      "Contratante : [Nome completo do contratante], [nacionalidade], [estado civil], \n",
      "[profissão], portador(a) do CPF nº [xxx.xxx.xxx -xx], residente e domiciliado(a) à \n",
      "[endereço completo], doravante denominado(a) \"Contratante\";  \n",
      "Contratado : [Nome completo do contratado], [nacionalidade], [estado civil], \n",
      "[profissão], portador(a) do CPF nº [xxx.xxx.xxx -xx], residente e do\n"
     ]
    }
   ],
   "source": [
    "# Testando a extração de um PDF (CV PAULO ADM.pdf)\n",
    "pdf_text = extract_text_from_pdf(r\"C:\\Users\\User\\Documents\\Curso de Dados\\LLM Engineer\\llm_engineering\\week1\\LLM projects\\Documento juridico.pdf\")\n",
    "print(pdf_text[:500])  # Exibe os primeiros 500 caracteres do texto extraído do PDF"
   ]
  },
  {
   "cell_type": "code",
   "execution_count": 8,
   "id": "cf91809f-d250-408a-8e3d-89d4934a0fa5",
   "metadata": {},
   "outputs": [
    {
     "name": "stdout",
     "output_type": "stream",
     "text": [
      "\n",
      "CONTRATO DE PRESTAÇÃO DE SERVIÇOS\n",
      "Pelo presente instrumento particular de contrato de prestação de serviços, as partes:\n",
      "Contratante: [Nome completo do contratante], [nacionalidade], [estado civil], [profissão], portador(a) do CPF nº [xxx.xxx.xxx-xx], residente e domiciliado(a) à [endereço completo], doravante denominado(a) \"Contratante\";\n",
      "Contratado: [Nome completo do contratado], [nacionalidade], [estado civil], [profissão], portador(a) do CPF nº [xxx.xxx.xxx-xx], residente e domiciliado(a) à [\n"
     ]
    }
   ],
   "source": [
    "# Testando a extração de um DOCX (CV PAULO EDU.docx)\n",
    "docx_text = extract_text_from_docx(r\"C:\\Users\\User\\Documents\\Curso de Dados\\LLM Engineer\\llm_engineering\\week1\\LLM projects\\Documento juridico.docx\")\n",
    "print(docx_text[:500])  # Exibe os primeiros 500 caracteres do texto extraído do DOCX"
   ]
  },
  {
   "cell_type": "markdown",
   "id": "d87aac71-1972-4197-be9f-0e2f2bcc0593",
   "metadata": {},
   "source": [
    "## Prompt do sistema"
   ]
  },
  {
   "cell_type": "code",
   "execution_count": 9,
   "id": "29737d1d-3795-4139-b48f-0387d8c18f4b",
   "metadata": {},
   "outputs": [],
   "source": [
    "system_prompt = \"\"\"\n",
    "    Você é um assistente jurídico especializado em documentos legais. Seu objetivo é fornecer um resumo conciso de um documento jurídico, destacando cláusulas importantes, como prazos, valores monetários, e condições que possam ser relevantes para um contrato ou termo de uso.\n",
    "    Responda de maneira clara e objetiva, removendo informações irrelevantes como cabeçalhos, rodapés e dados de navegação.\n",
    "    \"\"\"\n",
    "\n"
   ]
  },
  {
   "cell_type": "markdown",
   "id": "7579e001-c603-4571-916b-e072113c6caa",
   "metadata": {},
   "source": [
    "##  Função para Gerar Resumo com a OpenAI"
   ]
  },
  {
   "cell_type": "code",
   "execution_count": 10,
   "id": "152a63f0-273f-4d54-a5d7-9eb4e5aa9d78",
   "metadata": {},
   "outputs": [],
   "source": [
    "# Função para gerar o resumo com a OpenAI\n",
    "def messages_for(text):\n",
    "    # Definindo o prompt do sistema\n",
    "    system_prompt = \"\"\"\n",
    "    Você é um assistente jurídico especializado em documentos legais. Seu objetivo é fornecer um resumo conciso de um documento jurídico, destacando cláusulas importantes, como prazos, valores monetários, e condições que possam ser relevantes para um contrato ou termo de uso.\n",
    "    Responda de maneira clara e objetiva, removendo informações irrelevantes como cabeçalhos, rodapés e dados de navegação.\n",
    "    \"\"\"\n",
    "    \n",
    "    # Construindo a mensagem do usuário com o conteúdo extraído\n",
    "    prompt_usuario = f\"\"\"\n",
    "    O seguinte é um documento jurídico:\n",
    "    {text}\n",
    "    \"\"\"\n",
    "    \n",
    "    return [\n",
    "        {\"role\": \"system\", \"content\": system_prompt},\n",
    "        {\"role\": \"user\", \"content\": prompt_usuario}\n",
    "    ]\n",
    "\n",
    "# Função para enviar as mensagens para o modelo OpenAI e obter o resumo\n",
    "def generate_summary_with_openai(text):\n",
    "    # Criar as mensagens\n",
    "    messages = messages_for(text)\n",
    "    \n",
    "    # Chamada à API da OpenAI para gerar o resumo\n",
    "    response = openai.chat.completions.create(\n",
    "        model=\"gpt-4o-mini\",  # Use \"gpt-4\" ou \"gpt-3.5-turbo\" conforme necessário\n",
    "        messages=messages\n",
    "    )\n",
    "    \n",
    "    # Acessando a resposta corretamente\n",
    "    return response.choices[0].message.content"
   ]
  },
  {
   "cell_type": "code",
   "execution_count": null,
   "id": "2f9ca3cc-5fa7-4b17-925b-7f23e055338e",
   "metadata": {},
   "outputs": [],
   "source": []
  },
  {
   "cell_type": "code",
   "execution_count": 11,
   "id": "bae2757b-cd21-4b3c-9ade-300757bd838e",
   "metadata": {},
   "outputs": [
    {
     "name": "stdout",
     "output_type": "stream",
     "text": [
      "Resumo do Documento Jurídico PDF:\n",
      "**Resumo do Contrato de Prestação de Serviços**\n",
      "\n",
      "- **Partes**: \n",
      "  - **Contratante**: [Nome completo, dados pessoais].\n",
      "  - **Contratado**: [Nome completo, dados pessoais].\n",
      "\n",
      "- **Objeto**: Prestação de serviços de [descrição detalhada do serviço].\n",
      "\n",
      "- **Prazo**: \n",
      "  - Duração: [xx] dias.\n",
      "  - Início: [data de início].\n",
      "  - Término: [data de término].\n",
      "\n",
      "- **Valor e Forma de Pagamento**:\n",
      "  - Valor: R$ [valor].\n",
      "  - Forma de pagamento: [detalhar, ex. à vista, parcelado, datas de vencimento].\n",
      "\n",
      "- **Obrigações do Contratante**: [Descrever obrigações, ex. fornecer materiais].\n",
      "\n",
      "- **Obrigações do Contratado**: [Descrever obrigações, ex. cumprir prazo e qualidade do serviço].\n",
      "\n",
      "- **Rescisão**:\n",
      "  - Pode ser rescindido nas seguintes hipóteses: [situações específicas de rescisão].\n",
      "\n",
      "- **Confidencialidade**: Manter a confidencialidade sobre informações compartilhadas durante a execução do contrato.\n",
      "\n",
      "- **Disposições Gerais**:\n",
      "  - Alterações e aditivos só válidos por escrito e assinados por ambas as partes.\n",
      "  - Regido pelas leis da [jurisdição].\n",
      "\n",
      "**Local e Data**: [Local e data do contrato].\n",
      "\n",
      "**Assinaturas**: \n",
      "- [Nome do Contratante]\n",
      "- [Nome do Contratado]\n",
      "\n",
      "**Testemunhas**: \n",
      "- [Nome Testemunha 1]\n",
      "- [Nome Testemunha 2]\n"
     ]
    }
   ],
   "source": [
    "# Testando com o texto extraído do PDF\n",
    "pdf_summary = generate_summary_with_openai(pdf_text)\n",
    "\n",
    "# Exibindo o resumo gerado\n",
    "print(\"Resumo do Documento Jurídico PDF:\")\n",
    "print(pdf_summary)"
   ]
  },
  {
   "cell_type": "code",
   "execution_count": 12,
   "id": "bb62cdee-415f-4ccc-bfb7-ac48bf629e31",
   "metadata": {},
   "outputs": [
    {
     "data": {
      "text/markdown": [
       "### Resumo do Documento Jurídico PDF:\n",
       "\n",
       "**Resumo do Contrato de Prestação de Serviços**\n",
       "\n",
       "**Partes Contratantes:**\n",
       "- **Contratante:** [Nome completo, nacionalidade, estado civil, profissão, CPF, endereço]\n",
       "- **Contratado:** [Nome completo, nacionalidade, estado civil, profissão, CPF, endereço]\n",
       "\n",
       "**Cláusulas Importantes:**\n",
       "\n",
       "1. **Objeto do Contrato:** Prestação de serviços de [descrição detalhada do serviço].\n",
       "\n",
       "2. **Prazo:**\n",
       "   - Duração: [xx] dias.\n",
       "   - Início: [data de início].\n",
       "   - Término: [data de término].\n",
       "\n",
       "3. **Valor e Forma de Pagamento:**\n",
       "   - Montante: R$ [valor].\n",
       "   - Forma de pagamento: [detalhar método – ex., à vista, parcelado, vencimentos].\n",
       "\n",
       "4. **Obrigações do Contratante:**\n",
       "   - [Descrever obrigações, como fornecimento de materiais e informações].\n",
       "\n",
       "5. **Obrigações do Contratado:**\n",
       "   - [Descrever obrigações, como cumprimento de prazos e qualidade dos serviços].\n",
       "\n",
       "6. **Rescisão:**\n",
       "   - Possibilidade de rescisão nas seguintes situações: [descrever condições, como descumprimento].\n",
       "\n",
       "7. **Confidencialidade:**\n",
       "   - As partes devem manter a confidencialidade das informações trocadas.\n",
       "\n",
       "8. **Disposições Gerais:**\n",
       "   - Alterações devem ser feitas por escrito e assinadas por ambas as partes.\n",
       "   - Regido pelas leis da [jurisdição, ex., \"República Federativa do Brasil\"].\n",
       "\n",
       "**Local e Data da Assinatura:**\n",
       "- [Local e Data]\n",
       "\n",
       "**Assinaturas:**\n",
       "- [Nome do Contratante]\n",
       "- [Nome do Contratado]\n",
       "- Testemunhas: [Nome Testemunha 1], [Nome Testemunha 2]"
      ],
      "text/plain": [
       "<IPython.core.display.Markdown object>"
      ]
     },
     "metadata": {},
     "output_type": "display_data"
    }
   ],
   "source": [
    "# Função para gerar e exibir o resumo em Markdown\n",
    "def display_summary_in_markdown(text):\n",
    "    summary = generate_summary_with_openai(text)\n",
    "    \n",
    "    # Convertendo o resumo para Markdown\n",
    "    markdown_summary = f\"### Resumo do Documento Jurídico PDF:\\n\\n{summary}\"\n",
    "    \n",
    "    # Exibindo o resumo como Markdown\n",
    "    display(Markdown(markdown_summary))\n",
    "\n",
    "# Testando com o texto extraído do PDF\n",
    "pdf_summary = generate_summary_with_openai(pdf_text)\n",
    "\n",
    "# Exibindo o resumo gerado em Markdown\n",
    "display_summary_in_markdown(pdf_text)\n"
   ]
  },
  {
   "cell_type": "code",
   "execution_count": null,
   "id": "6d09b23e-01e6-4d67-877c-cac2cf29fd3a",
   "metadata": {},
   "outputs": [],
   "source": []
  }
 ],
 "metadata": {
  "kernelspec": {
   "display_name": "Python 3 (ipykernel)",
   "language": "python",
   "name": "python3"
  },
  "language_info": {
   "codemirror_mode": {
    "name": "ipython",
    "version": 3
   },
   "file_extension": ".py",
   "mimetype": "text/x-python",
   "name": "python",
   "nbconvert_exporter": "python",
   "pygments_lexer": "ipython3",
   "version": "3.11.11"
  }
 },
 "nbformat": 4,
 "nbformat_minor": 5
}
